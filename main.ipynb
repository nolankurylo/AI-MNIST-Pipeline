{
 "cells": [
  {
   "cell_type": "code",
   "execution_count": 1,
   "metadata": {
    "collapsed": true
   },
   "outputs": [],
   "source": [
    "from dataAcquisition import DataAcquisition\n",
    "from EDA import EDA\n",
    "from dataPreprocessing import DataPreprocessing\n",
    "from modelTraining import ModelTraining\n",
    "import pandas as pd\n",
    "import numpy as np\n",
    "\n",
    "%load_ext autoreload\n",
    "%autoreload 2\n"
   ]
  },
  {
   "cell_type": "code",
   "execution_count": 2,
   "outputs": [],
   "source": [
    "data_acquirer = DataAcquisition()\n",
    "\n",
    "# train_X, test_X, train_y, test_y = data_acquirer.acquire_data()\n",
    "X_train = pd.read_csv(\"data/X_train.csv\")\n",
    "y_train = pd.read_csv(\"data/y_train.csv\")\n",
    "X_test = pd.read_csv(\"data/X_test.csv\")\n",
    "y_test = pd.read_csv(\"data/y_test.csv\")"
   ],
   "metadata": {
    "collapsed": false,
    "pycharm": {
     "name": "#%%\n"
    }
   }
  },
  {
   "cell_type": "markdown",
   "source": [
    "# Exploratory Data Analysis"
   ],
   "metadata": {
    "collapsed": false,
    "pycharm": {
     "name": "#%% md\n"
    }
   }
  },
  {
   "cell_type": "code",
   "execution_count": 3,
   "outputs": [],
   "source": [
    "# eda = EDA()\n",
    "#\n",
    "# eda.plot(y_train, y_test, plot_type=\"classes_bar_plot\")\n",
    "# eda.plot(X_train, y_train, plot_type=\"display_images\")\n",
    "# stats = eda.descriptive_statistics(X_train)\n",
    "# print(stats.head)\n",
    "# constant_training_pixels = eda.find_constant_pixels(X_train)\n",
    "# constant_testing_pixels = eda.find_constant_pixels(X_test)\n",
    "# print(f\"Constant Pixels in Training Set: {constant_training_pixels}\")\n",
    "# print(f\"Constant Pixels in Testing Set: {constant_testing_pixels}\")"
   ],
   "metadata": {
    "collapsed": false,
    "pycharm": {
     "name": "#%%\n"
    }
   }
  },
  {
   "cell_type": "markdown",
   "source": [
    "# Data Preprocessing"
   ],
   "metadata": {
    "collapsed": false
   }
  },
  {
   "cell_type": "code",
   "execution_count": 4,
   "outputs": [],
   "source": [
    "# preprocessor = DataPreprocessing()\n",
    "#\n",
    "# X_train_pca, X_test_pca = preprocessor.dimensionality_reduction(X_train, X_test, 0.8)\n",
    "# print(f\"b: {preprocessor.num_components_before}, a: {preprocessor.num_components_after}\")\n",
    "# preprocessor.plot(X_train, X_train_pca, y_train, plot_type='pca_images')\n",
    "# preprocessor.plot(plot_type=\"eigenfaces\")"
   ],
   "metadata": {
    "collapsed": false,
    "pycharm": {
     "name": "#%%\n"
    }
   }
  },
  {
   "cell_type": "markdown",
   "source": [
    "# Model Training"
   ],
   "metadata": {
    "collapsed": false
   }
  },
  {
   "cell_type": "code",
   "execution_count": null,
   "outputs": [
    {
     "name": "stdout",
     "output_type": "stream",
     "text": [
      "[2 9 6 ... 8 8 7]\n",
      "Fitting 5 folds for each of 6 candidates, totalling 30 fits\n",
      "[CV 1/5; 1/6] START C=0.1, gamma=0.1............................................\n"
     ]
    }
   ],
   "source": [
    "model_trainer = ModelTraining(X_train, y_train, X_test, y_test)\n",
    "\n",
    "# nn = model_trainer.neural_network()\n",
    "svm = model_trainer.support_vector_machine()\n",
    "\n",
    "\n",
    "\n",
    "\n",
    "\n",
    "\n"
   ],
   "metadata": {
    "collapsed": false,
    "pycharm": {
     "name": "#%%\n",
     "is_executing": true
    }
   }
  },
  {
   "cell_type": "markdown",
   "source": [
    "Balanced dataset -> chosen metric will be accuracy, no need for F1\n",
    "\n",
    "\n",
    "Not removing highly correlated features as we would normally because\n",
    "since the feature-set is composed of pixel-based features, neighbouring\n",
    "pixels will likely have a high correlation - meaning we would need to\n",
    "remove a lot which would end up destroying a large chunk of the image.\n",
    "\n",
    "\n",
    "\n"
   ],
   "metadata": {
    "collapsed": false,
    "pycharm": {
     "name": "#%% md\n"
    }
   }
  }
 ],
 "metadata": {
  "kernelspec": {
   "display_name": "Python 3",
   "language": "python",
   "name": "python3"
  },
  "language_info": {
   "codemirror_mode": {
    "name": "ipython",
    "version": 2
   },
   "file_extension": ".py",
   "mimetype": "text/x-python",
   "name": "python",
   "nbconvert_exporter": "python",
   "pygments_lexer": "ipython2",
   "version": "2.7.6"
  }
 },
 "nbformat": 4,
 "nbformat_minor": 0
}